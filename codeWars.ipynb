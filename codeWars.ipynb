{
  "nbformat": 4,
  "nbformat_minor": 0,
  "metadata": {
    "colab": {
      "provenance": [],
      "collapsed_sections": [
        "4emUdAXKTcZW",
        "a-SZ2MpIO2jm",
        "dubNhqJjxxOU",
        "J95iCJ1sU9Jz",
        "1Mf0WbD8vIqN",
        "p6CiiJHJPBU1",
        "TKcNlmAXZtOA",
        "pSrtG7W82pMn",
        "o_2fWo7WZR6_",
        "wjDF62a3ltZ5"
      ],
      "authorship_tag": "ABX9TyP1tqvOlcCcKxxNvop6kbmm",
      "include_colab_link": true
    },
    "kernelspec": {
      "name": "python3",
      "display_name": "Python 3"
    },
    "language_info": {
      "name": "python"
    }
  },
  "cells": [
    {
      "cell_type": "markdown",
      "metadata": {
        "id": "view-in-github",
        "colab_type": "text"
      },
      "source": [
        "<a href=\"https://colab.research.google.com/github/vagabondboffin/codeWars/blob/main/codeWars.ipynb\" target=\"_parent\"><img src=\"https://colab.research.google.com/assets/colab-badge.svg\" alt=\"Open In Colab\"/></a>"
      ]
    },
    {
      "cell_type": "code",
      "source": [
        "from google.colab import drive\n",
        "drive.mount(\"/content/gdrive\")"
      ],
      "metadata": {
        "colab": {
          "base_uri": "https://localhost:8080/"
        },
        "id": "7AVM9ihAU_zf",
        "outputId": "8d8496d1-250b-41ae-bc4f-48b04070fca8"
      },
      "execution_count": null,
      "outputs": [
        {
          "output_type": "stream",
          "name": "stdout",
          "text": [
            "Mounted at /content/gdrive\n"
          ]
        }
      ]
    },
    {
      "cell_type": "code",
      "source": [
        "!git clone https://github.com/vagabondboffin/codeWars.git\n"
      ],
      "metadata": {
        "colab": {
          "base_uri": "https://localhost:8080/"
        },
        "id": "0KSgLNOBVKiT",
        "outputId": "4fa75a93-d9b5-489b-f749-fe9bd27c64e7"
      },
      "execution_count": null,
      "outputs": [
        {
          "output_type": "stream",
          "name": "stdout",
          "text": [
            "Cloning into 'codeWars'...\n",
            "fatal: could not read Username for 'https://github.com': No such device or address\n"
          ]
        }
      ]
    },
    {
      "cell_type": "code",
      "source": [
        "!git config --global user.email 'z.seyedghorban@gmail.com'\n",
        "!git config --global user.name 'vagabondboffin'\n",
        "!git clone https://vagabondboffin@github.com/vagabondboffin/codeWars.git\n",
        "\n"
      ],
      "metadata": {
        "colab": {
          "base_uri": "https://localhost:8080/"
        },
        "id": "09nAcOQwKAOa",
        "outputId": "2bb55949-0828-46db-b3de-eb6ddd27688c"
      },
      "execution_count": null,
      "outputs": [
        {
          "output_type": "stream",
          "name": "stdout",
          "text": [
            "Cloning into 'codeWars'...\n",
            "fatal: could not read Password for 'https://vagabondboffin@github.com': No such device or address\n"
          ]
        }
      ]
    },
    {
      "cell_type": "code",
      "source": [
        "! git clone https://vagabondboffin:Zahra1994@@github.com/codeWars.git"
      ],
      "metadata": {
        "colab": {
          "base_uri": "https://localhost:8080/"
        },
        "id": "JBpZf26ISP41",
        "outputId": "467ff46a-10b8-4f48-9ac5-b7a0d6f3251a"
      },
      "execution_count": null,
      "outputs": [
        {
          "output_type": "stream",
          "name": "stdout",
          "text": [
            "Cloning into 'codeWars'...\n",
            "fatal: unable to access 'https://@github.com/codeWars.git/': Could not resolve host: @github.com\n"
          ]
        }
      ]
    },
    {
      "cell_type": "code",
      "source": [
        "!git config --global user.email \"z.seyedghorban@gmail.com\"\n",
        "!git config --global user.name \"Zahra Seyedghorban\"\n",
        "!git clone https://github.com/vagabondboffin/codeWars.git\n"
      ],
      "metadata": {
        "colab": {
          "base_uri": "https://localhost:8080/"
        },
        "id": "lYw6SQ32RaMt",
        "outputId": "887c5c89-90a8-4750-9ea2-8d6a70c2afd2"
      },
      "execution_count": null,
      "outputs": [
        {
          "output_type": "stream",
          "name": "stdout",
          "text": [
            "Cloning into 'codeWars'...\n",
            "fatal: could not read Username for 'https://github.com': No such device or address\n"
          ]
        }
      ]
    },
    {
      "cell_type": "code",
      "source": [
        "%cd myrepo\n",
        "# create a file, then add it to stage\n",
        "!git add hello.txt\n",
        "!git commit -m 'commit message'  # commit in Colab\n",
        "!git push origin master"
      ],
      "metadata": {
        "id": "79uOPFrtfFVH",
        "outputId": "cc6d4818-3cf1-4197-eb76-5abf4546196f",
        "colab": {
          "base_uri": "https://localhost:8080/"
        }
      },
      "execution_count": null,
      "outputs": [
        {
          "output_type": "stream",
          "name": "stdout",
          "text": [
            "[Errno 2] No such file or directory: '/content/drive/MyDrive/Github/'\n",
            "/content\n"
          ]
        }
      ]
    },
    {
      "cell_type": "code",
      "source": [
        "for word in s.split(): s1 = s1.join(word[::-1] if len(word) > 5 else word)"
      ],
      "metadata": {
        "id": "Oj-MvXdRcfJR"
      },
      "execution_count": null,
      "outputs": []
    },
    {
      "cell_type": "code",
      "source": [
        "import string\n",
        "s2 = string.ascii_lowercase\n",
        "alphabet = set(string.ascii_lowercase)\n",
        "not alphabet - set(s)"
      ],
      "metadata": {
        "id": "3_GKkwXXeTF4",
        "colab": {
          "base_uri": "https://localhost:8080/"
        },
        "outputId": "3ab4a743-2d9c-4203-e350-e280a054844e"
      },
      "execution_count": null,
      "outputs": [
        {
          "output_type": "execute_result",
          "data": {
            "text/plain": [
              "False"
            ]
          },
          "metadata": {},
          "execution_count": 41
        }
      ]
    },
    {
      "cell_type": "markdown",
      "source": [
        "## **Day #3** (Unique in Order)\n",
        "\n"
      ],
      "metadata": {
        "id": "4emUdAXKTcZW"
      }
    },
    {
      "cell_type": "markdown",
      "source": [
        "Implement the function unique_in_order which takes as argument a sequence and returns a list of items without any elements with the same value next to each other and preserving the original order of elements.\n",
        "\n",
        "For example:\n",
        "\n",
        "unique_in_order('AAAABBBCCDAABBB') == ['A', 'B', 'C', 'D', 'A', 'B']\n",
        "unique_in_order('ABBCcAD')         == ['A', 'B', 'C', 'c', 'A', 'D']\n",
        "unique_in_order([1,2,2,3,3])       == [1,2,3]"
      ],
      "metadata": {
        "id": "Ti8QTqNHyAFg"
      }
    },
    {
      "cell_type": "code",
      "source": [
        "#myAnswer\n",
        "def unique_in_order(iterable):\n",
        "  newIterable = []\n",
        "  for i in iterable:\n",
        "    if len(newIterable) ==0 or i != newIterable[-1]:\n",
        "      newIterable.append(i)\n",
        "  return newIterable"
      ],
      "metadata": {
        "id": "2TEG1IUQT9eY"
      },
      "execution_count": null,
      "outputs": []
    },
    {
      "cell_type": "code",
      "source": [
        "#mostClever\n",
        "from itertools import groupby\n",
        "\n",
        "def unique_in_order(iterable):\n",
        "    return [k for (k, _) in groupby(iterable)]"
      ],
      "metadata": {
        "id": "LwZqD-JRYrVc"
      },
      "execution_count": null,
      "outputs": []
    },
    {
      "cell_type": "markdown",
      "source": [
        "## **Day #4** (Find the odd int)\n"
      ],
      "metadata": {
        "id": "a-SZ2MpIO2jm"
      }
    },
    {
      "cell_type": "markdown",
      "source": [
        "Given an array of integers, find the one that appears an odd number of times.\n",
        "\n",
        "There will always be only one integer that appears an odd number of times.\n",
        "\n",
        "Examples\n",
        "\n",
        "[7] should return 7, because it occurs 1 time (which is odd).\n",
        "\n",
        "[0] should return 0, because it occurs 1 time (which is odd).\n",
        "\n",
        "[1,1,2] should return 2, because it occurs 1 time (which is odd).\n",
        "\n",
        "[0,1,0,1,0] should return 0, because it occurs 3 times (which is odd).\n",
        "\n",
        "[1,2,2,3,3,3,4,3,3,3,2,2,1] should return 4, because it appears 1 time (which is odd)."
      ],
      "metadata": {
        "id": "V7TxpdP5x59Q"
      }
    },
    {
      "cell_type": "code",
      "source": [
        "#myAnswer\n",
        "def find_it(seq):\n",
        "  for item in seq:\n",
        "    if seq.count(item) % 2 != 0:\n",
        "      return item"
      ],
      "metadata": {
        "id": "PXla_IPFPC9Z"
      },
      "execution_count": null,
      "outputs": []
    },
    {
      "cell_type": "code",
      "source": [
        "#mostClever\n",
        "def find_it(seq):\n",
        "    return [x for x in seq if seq.count(x) % 2][0]"
      ],
      "metadata": {
        "id": "vl1M8Kd2PmiB"
      },
      "execution_count": null,
      "outputs": []
    },
    {
      "cell_type": "markdown",
      "source": [
        "## **Day #5** (Are they the \"same\"?)"
      ],
      "metadata": {
        "id": "dubNhqJjxxOU"
      }
    },
    {
      "cell_type": "markdown",
      "source": [
        "Given two arrays a and b write a function comp(a, b) (orcompSame(a, b)) that checks whether the two arrays have the \"same\" elements, with the same multiplicities (the multiplicity of a member is the number of times it appears). \"Same\" means, here, that the elements in b are the elements in a squared, regardless of the order."
      ],
      "metadata": {
        "id": "XwVbHF_Exxpy"
      }
    },
    {
      "cell_type": "code",
      "source": [
        "#myAnswer\n",
        "def comp(array1, array2):\n",
        "    if not array1 or not array2:\n",
        "        return False\n",
        "    return sorted(map(lambda x: x ** 2, array1)) == sorted(array2)"
      ],
      "metadata": {
        "id": "yHeBRexnx2n2"
      },
      "execution_count": null,
      "outputs": []
    },
    {
      "cell_type": "code",
      "source": [
        "#mostCelever\n",
        "#quiteTheSame"
      ],
      "metadata": {
        "id": "mM1r4-Ji2fe_"
      },
      "execution_count": null,
      "outputs": []
    },
    {
      "cell_type": "markdown",
      "source": [
        "## **Day #6** (The Hashtag Generator)\n",
        "\n",
        "\n"
      ],
      "metadata": {
        "id": "J95iCJ1sU9Jz"
      }
    },
    {
      "cell_type": "markdown",
      "source": [
        "The marketing team is spending way too much time typing in hashtags.\n",
        "Let's help them with our own Hashtag Generator!\n",
        "\n",
        "Here's the deal:\n",
        "\n",
        "It must start with a hashtag (#).\n",
        "All words must have their first letter capitalized.\n",
        "If the final result is longer than 140 chars it must return false.\n",
        "If the input or the result is an empty string it must return false."
      ],
      "metadata": {
        "id": "WTh_dj2_VCDg"
      }
    },
    {
      "cell_type": "code",
      "source": [
        "#myAnswer\n",
        "def generate_hashtag(s):\n",
        "  if s:\n",
        "    s = '#' + s.title().replace(' ','')\n",
        "    return s if len(s)<140 else False\n",
        "  return False"
      ],
      "metadata": {
        "id": "teVL6HFpVZMX"
      },
      "execution_count": null,
      "outputs": []
    },
    {
      "cell_type": "code",
      "source": [
        "#mostClever\n",
        "def generate_hashtag(s):\n",
        "    ans = '#'+ str(s.title().replace(' ',''))\n",
        "    return s and not len(ans)>140 and ans or False"
      ],
      "metadata": {
        "id": "e8BMzZU2VjgP"
      },
      "execution_count": null,
      "outputs": []
    },
    {
      "cell_type": "code",
      "source": [],
      "metadata": {
        "id": "f9LefE0sYSg0"
      },
      "execution_count": null,
      "outputs": []
    },
    {
      "cell_type": "markdown",
      "source": [
        "## **Day #7** (Playing with Digits)"
      ],
      "metadata": {
        "id": "1Mf0WbD8vIqN"
      }
    },
    {
      "cell_type": "markdown",
      "source": [
        "Some numbers have funny properties. For example:\n",
        "\n",
        "89 --> 8¹ + 9² = 89 * 1\n",
        "\n",
        "695 --> 6² + 9³ + 5⁴= 1390 = 695 * 2\n",
        "\n",
        "46288 --> 4³ + 6⁴+ 2⁵ + 8⁶ + 8⁷ = 2360688 = 46288 * 51\n",
        "\n",
        "Given a positive integer n written as abcd... (a, b, c, d... being digits) and a positive integer p\n",
        "\n",
        "we want to find a positive integer k, if it exists, such that the sum of the digits of n taken to the successive powers of p is equal to k * n.\n",
        "\n",
        "In other words:\n",
        "\n",
        "Is there an integer k such as : (a ^ p + b ^ (p+1) + c ^(p+2) + d ^ (p+3) + ...) = n * k\n",
        "\n",
        "If it is the case we will return k, if not return -1.\n",
        "\n",
        "Note: n and p will always be given as strictly positive integers."
      ],
      "metadata": {
        "id": "HFYJi2VevTop"
      }
    },
    {
      "cell_type": "code",
      "source": [
        "#myAnswer and #mostClever\n",
        "def dig_pow(n, p):\n",
        "  num = 0\n",
        "  digits = [int(x) for x in str(n)]\n",
        "  for indx,value in enumerate(str(n)):\n",
        "     num += pow(value, p+indx)\n",
        "  return num/n if num%n==0 else -1"
      ],
      "metadata": {
        "id": "DJJwLtmHwYmE"
      },
      "execution_count": null,
      "outputs": []
    },
    {
      "cell_type": "markdown",
      "source": [
        "## **Day #8** (Count the smiley faces!)"
      ],
      "metadata": {
        "id": "p6CiiJHJPBU1"
      }
    },
    {
      "cell_type": "markdown",
      "source": [
        "Given an array (arr) as an argument complete the function countSmileys that should return the total number of smiling faces.\n",
        "\n",
        "Rules for a smiling face:\n",
        "\n",
        "Each smiley face must contain a valid pair of eyes. Eyes can be marked as : or ;\n",
        "A smiley face can have a nose but it does not have to. Valid characters for a nose are - or ~\n",
        "Every smiling face must have a smiling mouth that should be marked with either ) or D\n",
        "No additional characters are allowed except for those mentioned.\n",
        "\n",
        "Valid smiley face examples: :) :D ;-D :~)\n",
        "\n",
        "Invalid smiley faces: ;( :> :} :]\n",
        "\n",
        "Note\n",
        "\n",
        "In case of an empty array return 0. You will not be tested with invalid input (input will always be an array). Order of the face (eyes, nose, mouth) elements will always be the same."
      ],
      "metadata": {
        "id": "j3fSsE42PGok"
      }
    },
    {
      "cell_type": "code",
      "source": [
        "#myAnswer\n",
        "def count_smileys(arr):\n",
        "    Eyes = [';' , ':']\n",
        "    Nose = ['-' , '~']\n",
        "    Mouth = [')' , 'D']\n",
        "    count = 0\n",
        "    for face in arr:\n",
        "        if len(face) == 2 and face[0] in Eyes and face[-1] in Mouth:\n",
        "            count += 1\n",
        "        if len(face) == 3 and face[0] in Eyes and face[1] in Nose and face[-1] in Mouth:\n",
        "            count += 1\n",
        "    return count\n"
      ],
      "metadata": {
        "id": "lgxnpqc1Pe9c"
      },
      "execution_count": null,
      "outputs": []
    },
    {
      "cell_type": "code",
      "source": [
        "#mostClever\n",
        "import re\n",
        "def count_smileys(arr):\n",
        "    return len(re.findall('[:;][-~]?[)D]', str(arr)))"
      ],
      "metadata": {
        "id": "Fs2_I7szRett"
      },
      "execution_count": null,
      "outputs": []
    },
    {
      "cell_type": "markdown",
      "source": [
        "## **Day #9** (Find the missing letter)"
      ],
      "metadata": {
        "id": "TKcNlmAXZtOA"
      }
    },
    {
      "cell_type": "markdown",
      "source": [
        "Write a method that takes an array of consecutive (increasing) letters as input and that returns the missing letter in the array.\n",
        "\n",
        "You will always get an valid array. And it will be always exactly one letter be missing. The length of the array will always be at least 2.\n",
        "The array will always contain letters in only one case.\n",
        "\n",
        "Example:\n",
        "\n",
        "['a','b','c','d','f'] -> 'e'\n",
        "['O','Q','R','S'] -> 'P'\n",
        "(Use the English alphabet with 26 letters!)\n",
        "\n",
        "Have fun coding it and please don't forget to vote and rank this kata! :-)\n",
        "\n",
        "I have also created other katas. Take a look if you enjoyed this kata!"
      ],
      "metadata": {
        "id": "iCc1dpyHZzvu"
      }
    },
    {
      "cell_type": "code",
      "source": [
        "#myAnswer\n",
        "import string\n",
        "def find_missing_letter(chars):\n",
        "  alphabet = list(string.ascii_lowercase) if chars[0].islower() else list(string.ascii_uppercase)\n",
        "  letters = alphabet[alphabet.index(chars[0]):alphabet.index(chars[-1])]\n",
        "  difference = list(set(letters) - set(chars))\n",
        "  return difference[0]\n"
      ],
      "metadata": {
        "id": "JLm3jSikZ7XA"
      },
      "execution_count": null,
      "outputs": []
    },
    {
      "cell_type": "code",
      "source": [
        "#mostClever\n",
        "def find_missing_letter(chars):\n",
        "    n = 0\n",
        "    while ord(chars[n]) == ord(chars[n+1]) - 1:\n",
        "        n += 1\n",
        "    return chr(1+ord(chars[n]))"
      ],
      "metadata": {
        "id": "tQjUhl1DbDln"
      },
      "execution_count": null,
      "outputs": []
    },
    {
      "cell_type": "markdown",
      "source": [
        "## **Day #10** (Count characters in your string)"
      ],
      "metadata": {
        "id": "uuBUawYSTFR6"
      }
    },
    {
      "cell_type": "markdown",
      "source": [
        "The main idea is to count all the occurring characters in a string. If you have a string like aba, then the result should be {'a': 2, 'b': 1}.\n",
        "\n",
        "What if the string is empty? Then the result should be empty object literal, {}.\n"
      ],
      "metadata": {
        "id": "MsOgVKMdTOQg"
      }
    },
    {
      "cell_type": "code",
      "source": [
        "#myAnswer #mostClever\n",
        "from collections import Counter\n",
        "def count(string):\n",
        "    return Counter(string)"
      ],
      "metadata": {
        "id": "p44D3wJWUI4x"
      },
      "execution_count": null,
      "outputs": []
    },
    {
      "cell_type": "markdown",
      "source": [
        "## **Day #11** (Find The Parity Outlier)\n"
      ],
      "metadata": {
        "id": "pSrtG7W82pMn"
      }
    },
    {
      "cell_type": "markdown",
      "source": [
        "You are given an array (which will have a length of at least 3, but could be very large) containing integers. The array is either entirely comprised of odd integers or entirely comprised of even integers except for a single integer N. Write a method that takes the array as an argument and returns this \"outlier\" N."
      ],
      "metadata": {
        "id": "3xgP00-62ysx"
      }
    },
    {
      "cell_type": "code",
      "source": [
        "#myAnswer and #ILoveMineBetter\n",
        "def find_outlier(integers):\n",
        "  m = [i%2 for i in integers]\n",
        "  return integers[m.index(0)] if sum(m) >= 2 else integers[m.index(1)]"
      ],
      "metadata": {
        "id": "yFt2JVBD22FT"
      },
      "execution_count": null,
      "outputs": []
    },
    {
      "cell_type": "markdown",
      "source": [
        "## **Day #12** (Pete, the Baker)"
      ],
      "metadata": {
        "id": "o_2fWo7WZR6_"
      }
    },
    {
      "cell_type": "code",
      "source": [
        "#myAnswer (bad mood = too many lines)\n",
        "import math\n",
        "def cakes(recipe, available):\n",
        "  mins = []\n",
        "  for key in recipe.keys():\n",
        "    if key not in available.keys():\n",
        "      return 0\n",
        "    mins.append(math.floor(available[key]/recipe[key]))\n",
        "  return min(mins)\n"
      ],
      "metadata": {
        "id": "2ynCo6bGD-Hy"
      },
      "execution_count": null,
      "outputs": []
    },
    {
      "cell_type": "code",
      "source": [
        "#mostClever\n",
        "def cakes(recipe, available):\n",
        "  return min([available[i]//recipe[i] if i in available else 0 for i in recipe])"
      ],
      "metadata": {
        "id": "eOHvQJN6JDj1"
      },
      "execution_count": null,
      "outputs": []
    },
    {
      "cell_type": "markdown",
      "source": [
        "## **Day #13** (Roman Numerals Helper)\n"
      ],
      "metadata": {
        "id": "wjDF62a3ltZ5"
      }
    },
    {
      "cell_type": "code",
      "source": [
        "#myAnswer\n",
        "class RomanNumerals:\n",
        "  def to_roman(val):\n",
        "\n",
        "    res = \"\"\n",
        "    table = [\n",
        "      (1000, \"M\"),\n",
        "      (900, \"CM\"),\n",
        "      (500, \"D\"),\n",
        "      (400, \"CD\"),\n",
        "      (100, \"C\"),\n",
        "      (90, \"XC\"),\n",
        "      (50, \"L\"),\n",
        "      (40, \"XL\"),\n",
        "      (10, \"X\"),\n",
        "      (9, \"IX\"),\n",
        "      (5, \"V\"),\n",
        "      (4, \"IV\"),\n",
        "      (1, \"I\"),\n",
        "   ]\n",
        "    for cap, roman in table:\n",
        "      d, m = divmod(val, cap)\n",
        "      res += roman * d\n",
        "      val= m\n",
        "    return res\n",
        "\n",
        "  def from_roman(roman_num):\n",
        "    s = str(roman_num)\n",
        "    roman = {'I':1,'V':5,'X':10,'L':50,'C':100,'D':500,'M':1000,'IV':4,'IX':9,'XL':40,'XC':90,'CD':400,'CM':900}\n",
        "    i = 0\n",
        "    num = 0\n",
        "    while i < len(s):\n",
        "        if i+1<len(s) and s[i:i+2] in roman:\n",
        "          num+=roman[s[i:i+2]]\n",
        "          i+=2\n",
        "        else:\n",
        "          num+=roman[s[i]]\n",
        "          i+=1\n",
        "    return num"
      ],
      "metadata": {
        "id": "kEal8_pFl1gN"
      },
      "execution_count": null,
      "outputs": []
    },
    {
      "cell_type": "code",
      "source": [
        "#mostClever\n",
        "import string\n",
        "from collections import OrderedDict\n",
        "def from_roman(self, roman):\n",
        "    conversions = OrderedDict([('CM',900), ('CD',400), ('XC',90), ('XL',40), ('IX',9), ('IV',4), ('M',1000), ('D',500),\n",
        "                               ('C',100), ('L',50), ('X',10), ('V',5), ('I',1)])\n",
        "    out = 0\n",
        "    for key, value in conversions.iteritems():\n",
        "      out += value * roman.count(key)\n",
        "      roman = string.replace(roman, key, \"\")\n",
        "    return out"
      ],
      "metadata": {
        "id": "dsCjxBJDr2Tp"
      },
      "execution_count": null,
      "outputs": []
    },
    {
      "cell_type": "markdown",
      "source": [
        "## **Day #14** (A Chain Adding Function)\n",
        "\n",
        "---\n",
        "\n",
        "\n"
      ],
      "metadata": {
        "id": "SLq2pj_SsPyu"
      }
    },
    {
      "cell_type": "code",
      "source": [
        "class add(int):\n",
        "  def __call__(self,n): #__call__ method makes a class callable\n",
        "    return add(self+n)\n",
        "\n"
      ],
      "metadata": {
        "id": "wz422d6RQT2V"
      },
      "execution_count": null,
      "outputs": []
    },
    {
      "cell_type": "markdown",
      "source": [
        "## **Day #16** (Arithmetic Slices)\n",
        "### from now on, problems are found on LeetCode"
      ],
      "metadata": {
        "id": "q74ktMfqgMV9"
      }
    },
    {
      "cell_type": "code",
      "source": [
        "nums = [1, 2, 3, 4]"
      ],
      "metadata": {
        "id": "hdyYBsxjge2g"
      },
      "execution_count": null,
      "outputs": []
    },
    {
      "cell_type": "code",
      "source": [
        "l = [0] * len(nums)\n",
        "l"
      ],
      "metadata": {
        "colab": {
          "base_uri": "https://localhost:8080/"
        },
        "id": "TbiM-5klgpiL",
        "outputId": "ff24a582-3edc-4ad1-dcd1-d4fdddbc5b85"
      },
      "execution_count": null,
      "outputs": [
        {
          "output_type": "execute_result",
          "data": {
            "text/plain": [
              "[0, 0, 0, 0]"
            ]
          },
          "metadata": {},
          "execution_count": 6
        }
      ]
    },
    {
      "cell_type": "code",
      "source": [
        "def numberOfArithmeticSlices(nums):\n",
        "    \"\"\"\n",
        "    :type nums: List[int]\n",
        "    :rtype: int\n",
        "    \"\"\"\n",
        "\n",
        "    l = [0] * len(nums)\n",
        "    for r in range(2, len(nums)):\n",
        "        if nums[r] - nums[r-1] == nums[r-1] - nums[r-2]:\n",
        "            l[r] = l[r-1] + 1\n",
        "\n",
        "    return sum(l)"
      ],
      "metadata": {
        "id": "_B_TBOXHgeTc"
      },
      "execution_count": null,
      "outputs": []
    },
    {
      "cell_type": "markdown",
      "source": [
        "## **Day #17** (Third Maximum Number)\n",
        "\n",
        "\n",
        "\n"
      ],
      "metadata": {
        "id": "HC_x1U94KY2_"
      }
    },
    {
      "cell_type": "code",
      "source": [
        "class Solution(object):\n",
        "    def thirdMax(self, nums):\n",
        "        \"\"\"\n",
        "        :type nums: List[int]\n",
        "        :rtype: int\n",
        "        \"\"\"\n",
        "        from collections import Counter\n",
        "\n",
        "        nums = list(Counter(nums))\n",
        "        #nums = list(dict.fromkeys(nums))\n",
        "        nums.sort()\n",
        "\n",
        "        return nums[-3] if len(nums) > 2 else nums[len(nums)-1]"
      ],
      "metadata": {
        "id": "BQ4ehhZrNfU4"
      },
      "execution_count": null,
      "outputs": []
    },
    {
      "cell_type": "code",
      "source": [
        "class Solution(object):\n",
        "    def thirdMax(self, nums):\n",
        "        \"\"\"\n",
        "        :type nums: List[int]\n",
        "        :rtype: int\n",
        "        \"\"\"\n",
        "        first_max = second_max = third_max = float('-inf')\n",
        "\n",
        "        for num in nums:\n",
        "            if num > first_max:\n",
        "                third_max = second_max\n",
        "                second_max = first_max\n",
        "                first_max = num\n",
        "            elif second_max < num < first_max:\n",
        "                third_max = second_max\n",
        "                second_max = num\n",
        "            elif third_max < num < second_max:\n",
        "                third_max = num\n",
        "\n",
        "        return third_max if third_max != float('-inf') else first_max"
      ],
      "metadata": {
        "id": "RwwAp5KIOmUz"
      },
      "execution_count": null,
      "outputs": []
    },
    {
      "cell_type": "markdown",
      "source": [
        "## **Day #18** (Add Strings)\n",
        "Given two non-negative integers, num1 and num2 represented as string, return the sum of num1 and num2 as a string.\n",
        "\n",
        "You must solve the problem without using any built-in library for handling large integers (such as BigInteger). You must also not convert the inputs to integers directly."
      ],
      "metadata": {
        "id": "rfBlAoTgBWHJ"
      }
    },
    {
      "cell_type": "code",
      "source": [
        "num1 = \"542\"\n",
        "l = len(num1) - 1\n",
        "n1 = n2 = 0\n",
        "for s in num1:\n",
        "  n1 += int(s)*10**l\n",
        "  l = l-1\n",
        "for s in num2:\n",
        "  n2 += int(s)*10**l\n",
        "  l = l-1\n",
        "n1"
      ],
      "metadata": {
        "colab": {
          "base_uri": "https://localhost:8080/"
        },
        "id": "BTpLCXrvBboA",
        "outputId": "5d7d63af-11b2-42ac-fec7-7f5fbe2921cb"
      },
      "execution_count": null,
      "outputs": [
        {
          "output_type": "execute_result",
          "data": {
            "text/plain": [
              "542"
            ]
          },
          "metadata": {},
          "execution_count": 14
        }
      ]
    },
    {
      "cell_type": "code",
      "source": [
        "\n",
        "class Solution(object):\n",
        "    def addStrings(self, num1, num2):\n",
        "        \"\"\"\n",
        "        :type num1: str\n",
        "        :type num2: str\n",
        "        :rtype: str\n",
        "        \"\"\"\n",
        "\n",
        "        l = len(num1) - 1\n",
        "        n1 = n2 = 0\n",
        "        for s in num1:\n",
        "            n1 += int(s)*10**l\n",
        "            l = l-1\n",
        "        l = len(num2) - 1\n",
        "        for s in num2:\n",
        "            n2 += int(s)*10**l\n",
        "            l = l-1\n",
        "\n",
        "\n",
        "        return str(n1+n2)"
      ],
      "metadata": {
        "id": "-5ZqDCDZB9m0"
      },
      "execution_count": null,
      "outputs": []
    },
    {
      "cell_type": "code",
      "source": [
        "import itertools\n",
        "\n",
        "class Solution(object):\n",
        "    def addStrings(self, num1, num2):\n",
        "        \"\"\"\n",
        "        :type num1: str\n",
        "        :type num2: str\n",
        "        :rtype: str\n",
        "        \"\"\"\n",
        "\n",
        "        # Make sure num1 is the longer number\n",
        "        if len(num1) < len(num2):\n",
        "            num1, num2 = num2, num1\n",
        "\n",
        "        # Pad the shorter number with zeros\n",
        "        num2 = '0' * (len(num1) - len(num2)) + num2\n",
        "\n",
        "        carry = 0\n",
        "        result = ''\n",
        "\n",
        "        # Iterate over digits from right to left\n",
        "        for i in range(len(num1)-1, -1, -1):\n",
        "            digit_sum = int(num1[i]) + int(num2[i]) + carry\n",
        "            result = str(digit_sum % 10) + result\n",
        "            carry = digit_sum // 10\n",
        "\n",
        "        # If there's a carry left after the loop, prepend it to the result\n",
        "        if carry:\n",
        "            result = str(carry) + result\n",
        "\n",
        "        return result\n"
      ],
      "metadata": {
        "id": "NZna5v8VGGeD"
      },
      "execution_count": null,
      "outputs": []
    },
    {
      "cell_type": "markdown",
      "source": [
        "## **Day #19: Partition Equal Subset Sum**\n",
        "Given an integer array nums, return true if you can partition the array into two subsets such that the sum of the elements in both subsets is equal or false otherwise.\n",
        "\n",
        "Example 1:\n",
        "\n",
        "Input: nums = [1,5,11,5]\n",
        "Output: true\n",
        "Explanation: The array can be partitioned as [1, 5, 5] and [11]."
      ],
      "metadata": {
        "id": "d1BjaNy47lPS"
      }
    },
    {
      "cell_type": "code",
      "source": [
        "nums = [1, 5, 5, 11]"
      ],
      "metadata": {
        "id": "qb5mqGvF7_vV"
      },
      "execution_count": 16,
      "outputs": []
    },
    {
      "cell_type": "code",
      "source": [
        "total_sum = sum(nums)\n",
        "\n",
        "target_sum = total_sum // 2\n",
        "target_sum\n",
        "len(nums)\n",
        "dp = [[False] * (target_sum + 1) for _ in range(n + 1)]\n",
        "for i in range(n + 1):\n",
        "    dp[i][0] = True"
      ],
      "metadata": {
        "id": "OHcwx6yy8x5I"
      },
      "execution_count": 30,
      "outputs": []
    },
    {
      "cell_type": "code",
      "source": [
        "def canPartition(nums):\n",
        "    total_sum = sum(nums)\n",
        "\n",
        "    if total_sum % 2 != 0:\n",
        "        return False\n",
        "\n",
        "    target_sum = total_sum // 2\n",
        "    n = len(nums)\n",
        "\n",
        "    dp = [[False] * (target_sum + 1) for _ in range(n + 1)]\n",
        "\n",
        "    for i in range(n + 1):\n",
        "        dp[i][0] = True\n",
        "\n",
        "    for i in range(1, n + 1):\n",
        "        for j in range(1, target_sum + 1):\n",
        "            if nums[i - 1] > j:\n",
        "                dp[i][j] = dp[i - 1][j]\n",
        "            else:\n",
        "                dp[i][j] = dp[i - 1][j] or dp[i - 1][j - nums[i - 1]]\n",
        "\n",
        "    return dp[n][target_sum]\n"
      ],
      "metadata": {
        "id": "svqQZncT-Ytv"
      },
      "execution_count": null,
      "outputs": []
    }
  ]
}